{
  "nbformat": 4,
  "nbformat_minor": 0,
  "metadata": {
    "colab": {
      "provenance": [],
      "authorship_tag": "ABX9TyMFwLZBOjeLSkAweIgmBoIx",
      "include_colab_link": true
    },
    "kernelspec": {
      "name": "python3",
      "display_name": "Python 3"
    },
    "language_info": {
      "name": "python"
    }
  },
  "cells": [
    {
      "cell_type": "markdown",
      "metadata": {
        "id": "view-in-github",
        "colab_type": "text"
      },
      "source": [
        "<a href=\"https://colab.research.google.com/github/mhasnainr/Python-Apna-College/blob/main/1_variables_and_data_types.ipynb\" target=\"_parent\"><img src=\"https://colab.research.google.com/assets/colab-badge.svg\" alt=\"Open In Colab\"/></a>"
      ]
    },
    {
      "cell_type": "markdown",
      "source": [
        "**Variables, Data Types & Strings**"
      ],
      "metadata": {
        "id": "5FTWq5T-iZG_"
      }
    },
    {
      "cell_type": "code",
      "execution_count": 3,
      "metadata": {
        "colab": {
          "base_uri": "https://localhost:8080/"
        },
        "id": "0w1Vn7fmTgW_",
        "outputId": "558f92da-4ead-4287-d151-37075956fe58"
      },
      "outputs": [
        {
          "output_type": "stream",
          "name": "stdout",
          "text": [
            "Welcom to \n",
            "Python\n",
            "Welcom to Python\n"
          ]
        }
      ],
      "source": [
        "print('Welcom to ')\n",
        "print('Python')\n",
        "print('Welcom to', 'Python') # comma b/w multiple inverted commas keeps it  in a single line"
      ]
    },
    {
      "cell_type": "code",
      "source": [
        "# Types of Operators\n",
        "\n",
        "\n",
        "# 1. Arithmetic: +, -, *, /, %, // (integer division), **\n",
        "# 2. Relation/ Comparison: ==, !=, >, <, >= , <=\n",
        "# 2. Assignment: =, -=, *=, /=, %=, //=, **=\n",
        "# 2. Logical: not, and , or\n",
        "# 2. Membership: in, not in\n",
        "# 2. Identity: is, is not\n",
        "# 2. Bitwise: &, |, ^\n"
      ],
      "metadata": {
        "id": "Gk9LK-nSfnn9"
      },
      "execution_count": 30,
      "outputs": []
    },
    {
      "cell_type": "code",
      "source": [
        "# Operator Precedence\n",
        "\n",
        "# not > and  > or"
      ],
      "metadata": {
        "id": "nR952uVfhZdk"
      },
      "execution_count": 31,
      "outputs": []
    },
    {
      "cell_type": "code",
      "source": [
        "# Assignment Operator: ' = '\n",
        "# e.g;\n",
        "\n",
        "age = 43"
      ],
      "metadata": {
        "id": "XEqHdKE5VDgD"
      },
      "execution_count": 4,
      "outputs": []
    },
    {
      "cell_type": "code",
      "source": [
        "# Variable/ identifier names should be: short, simple & identifier"
      ],
      "metadata": {
        "id": "rt8CSddhWnGf"
      },
      "execution_count": 5,
      "outputs": []
    },
    {
      "cell_type": "code",
      "source": [
        "# Data Types\n",
        "\n",
        "\n",
        "# Integers: +ve, -ve, 0\n",
        "\n",
        "# String: 'name', \"age\", \"\"\" this is paragraph \"\"\"\n",
        "\n",
        "# Float: 32.5, -0.432\n",
        "\n",
        "# Boolean: True,  False\n",
        "\n",
        "#  None: a = None"
      ],
      "metadata": {
        "id": "CU3IOyn9WuLh"
      },
      "execution_count": 7,
      "outputs": []
    },
    {
      "cell_type": "code",
      "source": [
        "age = 32\n",
        "old = False\n",
        "a = None\n",
        "\n",
        "print(type(old))\n",
        "print(type(a))"
      ],
      "metadata": {
        "colab": {
          "base_uri": "https://localhost:8080/"
        },
        "id": "pU0cTrFwXL10",
        "outputId": "cfa91824-5999-420e-b1f7-61d0e8eb6b13"
      },
      "execution_count": 8,
      "outputs": [
        {
          "output_type": "stream",
          "name": "stdout",
          "text": [
            "<class 'bool'>\n",
            "<class 'NoneType'>\n"
          ]
        }
      ]
    },
    {
      "cell_type": "code",
      "source": [
        "# Keywords\n",
        "\n",
        "# Keywords are reserved in Python"
      ],
      "metadata": {
        "id": "0wb35J1QXsUj"
      },
      "execution_count": 9,
      "outputs": []
    },
    {
      "cell_type": "code",
      "source": [
        "# Python is case sensitive\n",
        "# e.g;\n",
        "\n",
        "# 'Apple' and 'apple' are both different"
      ],
      "metadata": {
        "id": "g5NJY5HoX4MG"
      },
      "execution_count": 11,
      "outputs": []
    },
    {
      "cell_type": "code",
      "source": [
        "# Types of Tokens\n",
        "\n",
        "# Punctuators are symbols to organise sentence structure in programming\n",
        "# e.g:\n",
        "\n",
        "# {}, (), [], @, #, etc"
      ],
      "metadata": {
        "id": "mKVzu8ojYkl_"
      },
      "execution_count": 10,
      "outputs": []
    },
    {
      "cell_type": "code",
      "source": [
        "# Typed language\n",
        "\n",
        "# 1. Implicit: no need to provide a specific type\n",
        "# e.g; name = 'hasnain'\n",
        "# so python is an implicit typed language\n",
        "\n",
        "\n",
        "\n",
        "# 2. Explicit: need to provide a specific tpye\n",
        "# e.g; int age = 32\n",
        "# so C++, Java, etc are explicit"
      ],
      "metadata": {
        "id": "WHYY0VMMY_gi"
      },
      "execution_count": 12,
      "outputs": []
    },
    {
      "cell_type": "code",
      "source": [
        "# Expression Execution\n",
        "\n",
        "# 1. String and Numeric alues can operate together with *\n",
        "# In Python, if a string  is multiplied with a number, it will multiply (repeat) it\n",
        "\n",
        "# e.g;\n",
        "a, b = 2,3\n",
        "txt = '@'\n",
        "print(2 * txt * 3)"
      ],
      "metadata": {
        "colab": {
          "base_uri": "https://localhost:8080/"
        },
        "id": "hEE-TS2aZqJW",
        "outputId": "41a65d62-223f-4c79-b679-a3175538b5ba"
      },
      "execution_count": 17,
      "outputs": [
        {
          "output_type": "stream",
          "name": "stdout",
          "text": [
            "@@@@@@\n"
          ]
        }
      ]
    },
    {
      "cell_type": "code",
      "source": [
        "# 2. String & String can operate with +\n",
        "# multiple strings can be combined using '+'\n",
        "# concatenation is another name for it\n",
        "\n",
        "# e.g;\n",
        "a, b = '2', 3\n",
        "txt = '@'\n",
        "print((a + txt) * b)"
      ],
      "metadata": {
        "colab": {
          "base_uri": "https://localhost:8080/"
        },
        "id": "PlzbjTD1aeAo",
        "outputId": "1100a9aa-1612-4e0e-92f9-95a3fc5003bf"
      },
      "execution_count": 18,
      "outputs": [
        {
          "output_type": "stream",
          "name": "stdout",
          "text": [
            "2@2@2@\n"
          ]
        }
      ]
    },
    {
      "cell_type": "code",
      "source": [
        "# 3. Numeric values can operate with all arithmetic operators\n",
        "\n",
        "# e.g;\n",
        "a, b = 2, 3\n",
        "c = 5\n",
        "print(a+b*c)"
      ],
      "metadata": {
        "colab": {
          "base_uri": "https://localhost:8080/"
        },
        "id": "WWhY0ljiaflB",
        "outputId": "85009b3a-bb3b-4e83-ceeb-64ce723df8f5"
      },
      "execution_count": 28,
      "outputs": [
        {
          "output_type": "stream",
          "name": "stdout",
          "text": [
            "17\n"
          ]
        }
      ]
    },
    {
      "cell_type": "code",
      "source": [
        "# 4. Arithmetic expression with integer and float will result in float\n",
        "\n",
        "# e.g;\n",
        "a, b = 10, 4.6\n",
        "c = a * b\n",
        "print(c)"
      ],
      "metadata": {
        "colab": {
          "base_uri": "https://localhost:8080/"
        },
        "id": "RtDUBYPbcH09",
        "outputId": "19e32d05-599e-4a52-f325-4f84532bf7a1"
      },
      "execution_count": 20,
      "outputs": [
        {
          "output_type": "stream",
          "name": "stdout",
          "text": [
            "46.0\n"
          ]
        }
      ]
    },
    {
      "cell_type": "code",
      "source": [
        "# 5. result of division operator with two integers will be float\n",
        "\n",
        "# e.g;\n",
        "a, b = 10, 4\n",
        "c = a / b\n",
        "print(c)"
      ],
      "metadata": {
        "colab": {
          "base_uri": "https://localhost:8080/"
        },
        "id": "ZibHoA4CcIwM",
        "outputId": "47293067-16f4-4254-e14d-6affa5800f2d"
      },
      "execution_count": 21,
      "outputs": [
        {
          "output_type": "stream",
          "name": "stdout",
          "text": [
            "2.5\n"
          ]
        }
      ]
    },
    {
      "cell_type": "code",
      "source": [
        "# 6. Integer division (//) with float and int will give int displayed as float\n",
        "# means: rounding back\n",
        "# e.g;\n",
        "a, b = 10, 4.6\n",
        "c = a // b\n",
        "print(c, a/b)"
      ],
      "metadata": {
        "colab": {
          "base_uri": "https://localhost:8080/"
        },
        "id": "QHRCzRIIdOE2",
        "outputId": "edd62a25-3430-4835-fe01-39c9a7b74d06"
      },
      "execution_count": 25,
      "outputs": [
        {
          "output_type": "stream",
          "name": "stdout",
          "text": [
            "2.0 2.173913043478261\n"
          ]
        }
      ]
    },
    {
      "cell_type": "code",
      "source": [
        "# 6.1: floor gives closest integer (backwards), which is lesser than or equal to the float value\n",
        "\n",
        "a, b = 43, 5\n",
        "result = a // b\n",
        "print(result)"
      ],
      "metadata": {
        "colab": {
          "base_uri": "https://localhost:8080/"
        },
        "id": "K7o_LVVXdPBP",
        "outputId": "78e4eba7-76ad-45ad-e05a-bd681588fcfb"
      },
      "execution_count": 27,
      "outputs": [
        {
          "output_type": "stream",
          "name": "stdout",
          "text": [
            "8\n"
          ]
        }
      ]
    },
    {
      "cell_type": "code",
      "source": [
        "a = not True and False or True\n",
        "print(a)"
      ],
      "metadata": {
        "colab": {
          "base_uri": "https://localhost:8080/"
        },
        "id": "IX-ANLXyeT4f",
        "outputId": "0610c9b9-2972-44a6-89bf-3316723c2b4c"
      },
      "execution_count": 32,
      "outputs": [
        {
          "output_type": "stream",
          "name": "stdout",
          "text": [
            "True\n"
          ]
        }
      ]
    },
    {
      "cell_type": "code",
      "source": [
        "# evaluation using Precedence operator\n",
        "\n",
        "# (not True) and False or True\n",
        "# ( False and ) False or True\n",
        "# False or True => True"
      ],
      "metadata": {
        "id": "K7JDI31aht7C"
      },
      "execution_count": 33,
      "outputs": []
    },
    {
      "cell_type": "markdown",
      "source": [
        "**Conditional Statements**"
      ],
      "metadata": {
        "id": "JymagvXXilOk"
      }
    },
    {
      "cell_type": "code",
      "source": [
        "# Syntax\n",
        "# if-elif-else\n",
        "\n",
        "# e.g;\n",
        "\n",
        "light = input('Light: ')\n",
        "if(light == 'red'):\n",
        "  print('Stop')\n",
        "elif(light == 'green'):\n",
        "  print('Go')\n",
        "else:\n",
        "  print('Wrong signal')"
      ],
      "metadata": {
        "colab": {
          "base_uri": "https://localhost:8080/"
        },
        "id": "uRCgGe9ziFSI",
        "outputId": "6360ca8b-c568-4f50-846d-945a3eb75555"
      },
      "execution_count": 34,
      "outputs": [
        {
          "output_type": "stream",
          "name": "stdout",
          "text": [
            "Light: green\n",
            "Go\n"
          ]
        }
      ]
    },
    {
      "cell_type": "code",
      "source": [
        "# using Logical Operators\n",
        "\n",
        "# e.g; Grades of Students\n",
        "\n",
        "marks = input('Marks: ')\n",
        "if(marks >= '90'):\n",
        "  print('A')\n",
        "elif marks >= '80' and marks < '90':\n",
        "  print('B')\n",
        "elif marks >= '70' and marks < '80':\n",
        "  print('C')\n",
        "elif marks >= '60' and marks < '70':\n",
        "  print('D')\n",
        "else:\n",
        "  print('Fail')"
      ],
      "metadata": {
        "colab": {
          "base_uri": "https://localhost:8080/"
        },
        "id": "aZYqdErE3oP8",
        "outputId": "f5f9e7cf-42cb-4e7c-90f6-648db896bffc"
      },
      "execution_count": 36,
      "outputs": [
        {
          "output_type": "stream",
          "name": "stdout",
          "text": [
            "Marks: 54\n",
            "Fail\n"
          ]
        }
      ]
    },
    {
      "cell_type": "code",
      "source": [
        "# Single Line if/ Ternary Operator\n",
        "# var = val1 if condition else val2\n",
        "\n",
        "# e.g 1;\n",
        "food = input('Food: ')\n",
        "eat = 'Yes' if food == 'rice' else 'No'\n",
        "print(eat)\n",
        "\n",
        "# e.g 2;\n",
        "food = input('Food: ')\n",
        "eat = 'Yes' if food == 'rice' or food == 'roti' else 'No'\n",
        "print(eat)"
      ],
      "metadata": {
        "colab": {
          "base_uri": "https://localhost:8080/"
        },
        "id": "rxK2t5bF3-u7",
        "outputId": "386a97f6-33d7-4289-88f1-7fe9fd1abd9d"
      },
      "execution_count": 46,
      "outputs": [
        {
          "output_type": "stream",
          "name": "stdout",
          "text": [
            "Food: potatoes\n",
            "No\n",
            "Food: rice\n",
            "Yes\n"
          ]
        }
      ]
    },
    {
      "cell_type": "code",
      "source": [
        "# Clever if/ Ternary Operator\n",
        "# var = (false_value, true_value) [condition]\n",
        "\n",
        "age = int(input('Age: '))\n",
        "vote = ('yes', ' no') [age < 18]\n",
        "print(vote)"
      ],
      "metadata": {
        "colab": {
          "base_uri": "https://localhost:8080/"
        },
        "id": "O9w65KCU5W-J",
        "outputId": "46eea115-15e5-4320-c70f-8b8240af6c2c"
      },
      "execution_count": 45,
      "outputs": [
        {
          "output_type": "stream",
          "name": "stdout",
          "text": [
            "Age: 32\n",
            "yes\n"
          ]
        }
      ]
    },
    {
      "cell_type": "code",
      "source": [
        "age = int(input('Age: '))\n",
        "vote = ('yes', ' no') [age < 18]\n",
        "print(vote)"
      ],
      "metadata": {
        "colab": {
          "base_uri": "https://localhost:8080/"
        },
        "id": "WgkiXaod6lh3",
        "outputId": "a22273a2-b7a1-4610-8b20-2e0e3aca9eb7"
      },
      "execution_count": 41,
      "outputs": [
        {
          "output_type": "stream",
          "name": "stdout",
          "text": [
            "Age: 12\n",
            " no\n"
          ]
        }
      ]
    },
    {
      "cell_type": "code",
      "source": [
        "salary = float(input('Salary: '))\n",
        "tax = salary * (.1, .2) [salary > 30000]\n",
        "print(tax)"
      ],
      "metadata": {
        "colab": {
          "base_uri": "https://localhost:8080/"
        },
        "id": "pK19L61i65_f",
        "outputId": "ff4d55cc-9e7d-4dd0-d472-6045dfd9f2a1"
      },
      "execution_count": 42,
      "outputs": [
        {
          "output_type": "stream",
          "name": "stdout",
          "text": [
            "Salary: 20000\n",
            "2000.0\n"
          ]
        }
      ]
    },
    {
      "cell_type": "code",
      "source": [
        "salary = float(input('Salary: '))\n",
        "tax = salary * (.1, .2) [salary > 30000]\n",
        "print(tax)"
      ],
      "metadata": {
        "colab": {
          "base_uri": "https://localhost:8080/"
        },
        "id": "Sj9SsRTB7fry",
        "outputId": "e695e2c9-d90c-478f-f4a2-8ff273e0f899"
      },
      "execution_count": 44,
      "outputs": [
        {
          "output_type": "stream",
          "name": "stdout",
          "text": [
            "Salary: 40000\n",
            "8000.0\n"
          ]
        }
      ]
    },
    {
      "cell_type": "code",
      "source": [
        "# Best Practices\n",
        "\n",
        "# simple instruction\n",
        "# one instruction per task\n",
        "# short & meaningful var names\n",
        "# use appropriate comments\n",
        "# avoid cmplex expressions"
      ],
      "metadata": {
        "id": "dCz21bWM7noy"
      },
      "execution_count": 48,
      "outputs": []
    },
    {
      "cell_type": "code",
      "source": [
        "# single line comments\n",
        "# triple inverted commas - multi-line comments"
      ],
      "metadata": {
        "id": "4CmapnvO8d1n"
      },
      "execution_count": 49,
      "outputs": []
    }
  ]
}