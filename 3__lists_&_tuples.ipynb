{
  "nbformat": 4,
  "nbformat_minor": 0,
  "metadata": {
    "colab": {
      "provenance": [],
      "collapsed_sections": [
        "Jg7VoAc5rjLb",
        "vyjqBAdIra5x"
      ],
      "authorship_tag": "ABX9TyOec0GH2MLqUXGmxKSeAgjK",
      "include_colab_link": true
    },
    "kernelspec": {
      "name": "python3",
      "display_name": "Python 3"
    },
    "language_info": {
      "name": "python"
    }
  },
  "cells": [
    {
      "cell_type": "markdown",
      "metadata": {
        "id": "view-in-github",
        "colab_type": "text"
      },
      "source": [
        "<a href=\"https://colab.research.google.com/github/mhasnainr/Python-Apna-College/blob/main/3__lists_%26_tuples.ipynb\" target=\"_parent\"><img src=\"https://colab.research.google.com/assets/colab-badge.svg\" alt=\"Open In Colab\"/></a>"
      ]
    },
    {
      "cell_type": "markdown",
      "source": [
        "**Chapter 3: Lists & Tuples**"
      ],
      "metadata": {
        "id": "CcMYT-hcqUFF"
      }
    },
    {
      "cell_type": "markdown",
      "source": [
        "# Lists"
      ],
      "metadata": {
        "id": "Jg7VoAc5rjLb"
      }
    },
    {
      "cell_type": "code",
      "execution_count": 1,
      "metadata": {
        "id": "5kr9_XT5qSZO"
      },
      "outputs": [],
      "source": [
        "# it's a built-in data-type\n",
        "# it's mutable [changeable]\n",
        "# Syntax: [] is used with comma is placed for multiple elements"
      ]
    },
    {
      "cell_type": "code",
      "source": [
        "# it can store elements of diff. types (int, float, str, etc)\n",
        "# e.g;\n",
        "\n",
        "student = ['Asif', 54, 3.43]\n",
        "\n",
        "print(type(student))\n",
        "\n",
        "print(type(student[0]))\n",
        "print(type(student[1]))\n",
        "print(type(student[2]))"
      ],
      "metadata": {
        "colab": {
          "base_uri": "https://localhost:8080/"
        },
        "id": "vPfgwpYdkqqa",
        "outputId": "798438b0-1352-4404-82c8-d887d4d99121"
      },
      "execution_count": null,
      "outputs": [
        {
          "output_type": "stream",
          "name": "stdout",
          "text": [
            "<class 'list'>\n",
            "<class 'str'>\n",
            "<class 'int'>\n",
            "<class 'float'>\n"
          ]
        }
      ]
    },
    {
      "cell_type": "code",
      "source": [
        "# diff b/w strings & lists\n",
        "\n",
        "# strings:\n",
        "# - immutable: unchangeable\n",
        "# index element is only accessable\n",
        "\n",
        "# e.g;\n",
        "# str = 'hello'\n",
        "# print(str[0])\n",
        "# str[0] = 'ali' # TypeError: 'str' object does not support item assignment\n",
        "\n",
        "\n",
        "# lists\n",
        "# - mutable: changeable\n",
        "# index element is accessable + manipulatable within the range\n",
        "\n",
        "# e.g;\n",
        "std = ['asif', 12]\n",
        "print(std[0])\n",
        "std[0] = 'ali'\n",
        "print(std[0]) # no error, hence value will be changed"
      ],
      "metadata": {
        "colab": {
          "base_uri": "https://localhost:8080/"
        },
        "id": "8LZcVypHl5cH",
        "outputId": "8707828b-da82-4db0-8027-1b3420487649"
      },
      "execution_count": null,
      "outputs": [
        {
          "output_type": "stream",
          "name": "stdout",
          "text": [
            "asif\n",
            "ali\n"
          ]
        }
      ]
    },
    {
      "cell_type": "code",
      "source": [
        "# List slicing\n",
        "# it's similar to that of string slicing"
      ],
      "metadata": {
        "id": "RhOvUAdfnxLN"
      },
      "execution_count": null,
      "outputs": []
    },
    {
      "cell_type": "code",
      "source": [
        "# List Methods\n",
        "\n",
        "# list.append: adds at the end\n",
        "# list.sort: ascending\n",
        "# list.sort(reverse = True): descending\n",
        "# list.reverse\n",
        "# list.insert(idx, el)\n",
        "# list.remove(4): e.g; from this [2, 3, 4, 5, 4] --> [2, 3, 5, 4]\n",
        "# list.pop(idx)"
      ],
      "metadata": {
        "id": "l25OWp_Qo_On"
      },
      "execution_count": null,
      "outputs": []
    },
    {
      "cell_type": "markdown",
      "source": [
        "# Tuples"
      ],
      "metadata": {
        "id": "vyjqBAdIra5x"
      }
    },
    {
      "cell_type": "code",
      "source": [
        "# it's a built-in data-type\n",
        "# it's immutable [not changeable], just like strings\n",
        "# Syntax: () is used with comma is placed for multiple elements"
      ],
      "metadata": {
        "id": "1Up-Cxm3rdcv"
      },
      "execution_count": 2,
      "outputs": []
    },
    {
      "cell_type": "code",
      "source": [
        "num = (4, 2, 3)\n",
        "print(type(num))"
      ],
      "metadata": {
        "id": "WNkNXgidrvGA",
        "colab": {
          "base_uri": "https://localhost:8080/"
        },
        "outputId": "18fbecb5-6709-4040-fbb2-caa7ecbaba89"
      },
      "execution_count": 3,
      "outputs": [
        {
          "output_type": "stream",
          "name": "stdout",
          "text": [
            "<class 'tuple'>\n"
          ]
        }
      ]
    },
    {
      "cell_type": "code",
      "source": [
        "# proof of Tuples being immutable\n",
        "\n",
        "print(num[0])\n",
        "# num[0] = 5 # TypeError: 'tuple' object does not support item assignment"
      ],
      "metadata": {
        "colab": {
          "base_uri": "https://localhost:8080/"
        },
        "id": "c9IjqyovF-AQ",
        "outputId": "0c8ca3e9-5b99-4594-fecf-30534af55d37"
      },
      "execution_count": 5,
      "outputs": [
        {
          "output_type": "stream",
          "name": "stdout",
          "text": [
            "4\n"
          ]
        }
      ]
    },
    {
      "cell_type": "code",
      "source": [
        "# empty tuple also exists\n",
        "\n",
        "tup = ()\n",
        "print(tup)\n",
        "print(type(tup))"
      ],
      "metadata": {
        "colab": {
          "base_uri": "https://localhost:8080/"
        },
        "id": "tpL73WIPGUM3",
        "outputId": "7863cbf0-9a29-437f-f33d-be4e14ef64c8"
      },
      "execution_count": 6,
      "outputs": [
        {
          "output_type": "stream",
          "name": "stdout",
          "text": [
            "()\n",
            "<class 'tuple'>\n"
          ]
        }
      ]
    },
    {
      "cell_type": "code",
      "source": [
        "# in case, there's a single element inside a tuple, it's good to place comma after it"
      ],
      "metadata": {
        "id": "mV9kShWqGmKp"
      },
      "execution_count": 8,
      "outputs": []
    },
    {
      "cell_type": "code",
      "source": [
        "# with comma\n",
        "\n",
        "a = (1,)\n",
        "print(a)\n",
        "print(type(a))\n",
        "\n",
        "c = ('hello',)\n",
        "print(c)\n",
        "print(type(c))"
      ],
      "metadata": {
        "colab": {
          "base_uri": "https://localhost:8080/"
        },
        "id": "uPxbhP5FHDLA",
        "outputId": "3fea16d2-bdda-4e71-dd97-9996ba9179c0"
      },
      "execution_count": 14,
      "outputs": [
        {
          "output_type": "stream",
          "name": "stdout",
          "text": [
            "(1,)\n",
            "<class 'tuple'>\n",
            "('hello',)\n",
            "<class 'tuple'>\n"
          ]
        }
      ]
    },
    {
      "cell_type": "code",
      "source": [
        "# without comma\n",
        "b = (1)\n",
        "print(b)\n",
        "print(type(b))"
      ],
      "metadata": {
        "colab": {
          "base_uri": "https://localhost:8080/"
        },
        "id": "RA-9-bPYHIiI",
        "outputId": "f5242089-a4a5-447c-bb7e-febb2942a04f"
      },
      "execution_count": 10,
      "outputs": [
        {
          "output_type": "stream",
          "name": "stdout",
          "text": [
            "1\n",
            "<class 'int'>\n"
          ]
        }
      ]
    },
    {
      "cell_type": "markdown",
      "source": [
        "**Tuple Methods**"
      ],
      "metadata": {
        "id": "6ut_pCLwIEil"
      }
    },
    {
      "cell_type": "code",
      "source": [
        "tup = (2, 1, 3, 1)\n",
        "\n",
        "# 1. tup.index(el)\n",
        "print(tup.index(1))\n",
        "\n",
        "\n",
        "# 2. tup.count(el)\n",
        "print(tup.count(1))"
      ],
      "metadata": {
        "colab": {
          "base_uri": "https://localhost:8080/"
        },
        "id": "rjW3Y3O5HO06",
        "outputId": "23f15c44-1f42-4105-ae1b-77f80e41bb7b"
      },
      "execution_count": 16,
      "outputs": [
        {
          "output_type": "stream",
          "name": "stdout",
          "text": [
            "1\n",
            "2\n"
          ]
        }
      ]
    },
    {
      "cell_type": "markdown",
      "source": [
        "**Practise**"
      ],
      "metadata": {
        "id": "VkoImpstJnEM"
      }
    },
    {
      "cell_type": "code",
      "source": [
        "# 1. ask user to enter name of movies in a list\n",
        "\n",
        "m1 = input('Enter movie 1: ')\n",
        "m2 = input('Enter movie 2: ')\n",
        "m3 = input('Enter movie 3: ')\n",
        "\n",
        "movies = [m1, m2, m3]\n",
        "\n",
        "print(movies)"
      ],
      "metadata": {
        "colab": {
          "base_uri": "https://localhost:8080/"
        },
        "id": "dt-7bODqIMbH",
        "outputId": "760c2723-77de-41a3-bb07-45ed128337d3"
      },
      "execution_count": 19,
      "outputs": [
        {
          "output_type": "stream",
          "name": "stdout",
          "text": [
            "Enter movie 1: abc\n",
            "Enter movie 2: don\n",
            "Enter movie 3: war\n",
            "['abc', 'don', 'war']\n"
          ]
        }
      ]
    },
    {
      "cell_type": "code",
      "source": [
        "# palindrome: it is read same from both the  start and end\n",
        "# e.g; 'racecar', \"ma'am\"\n",
        "\n",
        "# 2. check if a list contains a palindrome of elements\n",
        "\n",
        "l1 = [1, 2, 1]\n",
        "l2 = [1, 2, 3]\n",
        "\n",
        "# make its copy\n",
        "copy_l1 = l1.copy()\n",
        "copy_l1.reverse()\n",
        "\n",
        "if l1 == copy_l1:\n",
        "    print('Palindrome')\n",
        "else:\n",
        "    print('Not Palindrome')"
      ],
      "metadata": {
        "colab": {
          "base_uri": "https://localhost:8080/"
        },
        "id": "0utmoXG6KC1G",
        "outputId": "f64b60da-eea9-4a27-8027-820bf59f6390"
      },
      "execution_count": 26,
      "outputs": [
        {
          "output_type": "stream",
          "name": "stdout",
          "text": [
            "Palindrome\n"
          ]
        }
      ]
    },
    {
      "cell_type": "code",
      "source": [
        "# 3. count num of stds with A grade in tuple\n",
        "\n",
        "grades = ('C', 'D', 'A', 'A', 'B', 'B', 'A')\n",
        "\n",
        "print(grades.count('A'))"
      ],
      "metadata": {
        "colab": {
          "base_uri": "https://localhost:8080/"
        },
        "id": "3ylxCRw0L45s",
        "outputId": "e65a80df-a231-4869-e415-c1338a527c72"
      },
      "execution_count": 29,
      "outputs": [
        {
          "output_type": "stream",
          "name": "stdout",
          "text": [
            "3\n"
          ]
        }
      ]
    },
    {
      "cell_type": "code",
      "source": [
        "# store above values in a list & sort them from A to D\n",
        "\n",
        "grades = ['C', 'D', 'A', 'A', 'B', 'B', 'A']\n",
        "grades.sort()\n",
        "print(grades)"
      ],
      "metadata": {
        "colab": {
          "base_uri": "https://localhost:8080/"
        },
        "id": "5OJBOkDRNb-B",
        "outputId": "f09e30a3-f63f-45fc-db20-a3238b7ac33c"
      },
      "execution_count": 31,
      "outputs": [
        {
          "output_type": "stream",
          "name": "stdout",
          "text": [
            "['A', 'A', 'A', 'B', 'B', 'C', 'D']\n"
          ]
        }
      ]
    }
  ]
}