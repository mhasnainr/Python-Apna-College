{
  "nbformat": 4,
  "nbformat_minor": 0,
  "metadata": {
    "colab": {
      "provenance": [],
      "collapsed_sections": [
        "Jg7VoAc5rjLb"
      ],
      "authorship_tag": "ABX9TyM0CqD7T1LYUoVDh2/kkXxc",
      "include_colab_link": true
    },
    "kernelspec": {
      "name": "python3",
      "display_name": "Python 3"
    },
    "language_info": {
      "name": "python"
    }
  },
  "cells": [
    {
      "cell_type": "markdown",
      "metadata": {
        "id": "view-in-github",
        "colab_type": "text"
      },
      "source": [
        "<a href=\"https://colab.research.google.com/github/mhasnainr/Python-Apna-College/blob/main/3__lists_%26_tuples.ipynb\" target=\"_parent\"><img src=\"https://colab.research.google.com/assets/colab-badge.svg\" alt=\"Open In Colab\"/></a>"
      ]
    },
    {
      "cell_type": "markdown",
      "source": [
        "**Chapter 3: Lists & Tuples**"
      ],
      "metadata": {
        "id": "CcMYT-hcqUFF"
      }
    },
    {
      "cell_type": "markdown",
      "source": [
        "# Lists"
      ],
      "metadata": {
        "id": "Jg7VoAc5rjLb"
      }
    },
    {
      "cell_type": "code",
      "execution_count": 20,
      "metadata": {
        "id": "5kr9_XT5qSZO"
      },
      "outputs": [],
      "source": [
        "# it's a built-in data-type\n",
        "# Syntax: [] is used with comma is placed for multiple elements"
      ]
    },
    {
      "cell_type": "code",
      "source": [
        "# it can store elements of diff. types (int, float, str, etc)\n",
        "# e.g;\n",
        "\n",
        "student = ['Asif', 54, 3.43]\n",
        "\n",
        "print(type(student))\n",
        "\n",
        "print(type(student[0]))\n",
        "print(type(student[1]))\n",
        "print(type(student[2]))"
      ],
      "metadata": {
        "colab": {
          "base_uri": "https://localhost:8080/"
        },
        "id": "vPfgwpYdkqqa",
        "outputId": "798438b0-1352-4404-82c8-d887d4d99121"
      },
      "execution_count": 7,
      "outputs": [
        {
          "output_type": "stream",
          "name": "stdout",
          "text": [
            "<class 'list'>\n",
            "<class 'str'>\n",
            "<class 'int'>\n",
            "<class 'float'>\n"
          ]
        }
      ]
    },
    {
      "cell_type": "code",
      "source": [
        "# diff b/w strings & lists\n",
        "\n",
        "# strings:\n",
        "# - immutable: unchangeable\n",
        "# index element is only accessable\n",
        "\n",
        "# e.g;\n",
        "# str = 'hello'\n",
        "# print(str[0])\n",
        "# str[0] = 'ali' # TypeError: 'str' object does not support item assignment\n",
        "\n",
        "\n",
        "# lists\n",
        "# - mutable: changeable\n",
        "# index element is accessable + manipulatable within the range\n",
        "\n",
        "# e.g;\n",
        "std = ['asif', 12]\n",
        "print(std[0])\n",
        "std[0] = 'ali'\n",
        "print(std[0]) # no error, hence value will be changed"
      ],
      "metadata": {
        "colab": {
          "base_uri": "https://localhost:8080/"
        },
        "id": "8LZcVypHl5cH",
        "outputId": "8707828b-da82-4db0-8027-1b3420487649"
      },
      "execution_count": 12,
      "outputs": [
        {
          "output_type": "stream",
          "name": "stdout",
          "text": [
            "asif\n",
            "ali\n"
          ]
        }
      ]
    },
    {
      "cell_type": "code",
      "source": [
        "# List slicing\n",
        "# it's similar to that of string slicing"
      ],
      "metadata": {
        "id": "RhOvUAdfnxLN"
      },
      "execution_count": 13,
      "outputs": []
    },
    {
      "cell_type": "code",
      "source": [
        "# List Methods\n",
        "\n",
        "# list.append: adds at the end\n",
        "# list.sort: ascending\n",
        "# list.sort(reverse = True): descending\n",
        "# list.reverse\n",
        "# list.insert(idx, el)\n",
        "# list.remove(4): e.g; from this [2, 3, 4, 5, 4] --> [2, 3, 5, 4]\n",
        "# list.pop(idx)"
      ],
      "metadata": {
        "id": "l25OWp_Qo_On"
      },
      "execution_count": 16,
      "outputs": []
    },
    {
      "cell_type": "markdown",
      "source": [
        "# Tuples"
      ],
      "metadata": {
        "id": "vyjqBAdIra5x"
      }
    },
    {
      "cell_type": "code",
      "source": [
        "# it's a built-in data-type"
      ],
      "metadata": {
        "id": "1Up-Cxm3rdcv"
      },
      "execution_count": 18,
      "outputs": []
    },
    {
      "cell_type": "code",
      "source": [
        "# time: 3.49:25"
      ],
      "metadata": {
        "id": "WNkNXgidrvGA"
      },
      "execution_count": 21,
      "outputs": []
    },
    {
      "cell_type": "code",
      "source": [],
      "metadata": {
        "id": "dhBNn5D044bD"
      },
      "execution_count": null,
      "outputs": []
    }
  ]
}