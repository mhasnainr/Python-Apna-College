{
  "nbformat": 4,
  "nbformat_minor": 0,
  "metadata": {
    "colab": {
      "provenance": [],
      "collapsed_sections": [
        "Nz61OLuaPqV9",
        "bmISn9kdPuCc"
      ],
      "authorship_tag": "ABX9TyOET9jAhNCF0GdHK0rJTeEH",
      "include_colab_link": true
    },
    "kernelspec": {
      "name": "python3",
      "display_name": "Python 3"
    },
    "language_info": {
      "name": "python"
    }
  },
  "cells": [
    {
      "cell_type": "markdown",
      "metadata": {
        "id": "view-in-github",
        "colab_type": "text"
      },
      "source": [
        "<a href=\"https://colab.research.google.com/github/mhasnainr/Python-Apna-College/blob/main/4__dictionary_%26_set.ipynb\" target=\"_parent\"><img src=\"https://colab.research.google.com/assets/colab-badge.svg\" alt=\"Open In Colab\"/></a>"
      ]
    },
    {
      "cell_type": "markdown",
      "source": [
        "**Chapter 4: Dictionary & Set**"
      ],
      "metadata": {
        "id": "w-DyScOUPi2m"
      }
    },
    {
      "cell_type": "markdown",
      "source": [
        "# Dictionary"
      ],
      "metadata": {
        "id": "Nz61OLuaPqV9"
      }
    },
    {
      "cell_type": "code",
      "execution_count": 3,
      "metadata": {
        "id": "irckWFvdPg-y"
      },
      "outputs": [],
      "source": [
        "# used to store data values in key:value pairs\n",
        "# they are unordered, mutable, don't allow duplicatw key\n",
        "\n",
        "# Syntax: var_name = { 'name' : \"\", 'cgpa' : 3.3 }"
      ]
    },
    {
      "cell_type": "code",
      "source": [
        "# e.g;\n",
        "\n",
        "info = {\n",
        "    'name' : 'Hasnain',\n",
        "    'languages' : ['Python', 'JS'],\n",
        "    'topics' : ('dict', 'set'),\n",
        "    'age' : 32,\n",
        "    'is_adult' : True,\n",
        "    'marks' : 54.2\n",
        "}\n",
        "\n",
        "print(info)\n",
        "print(type(info))"
      ],
      "metadata": {
        "colab": {
          "base_uri": "https://localhost:8080/"
        },
        "id": "S386o0ByQg5H",
        "outputId": "d492ce53-ae22-4a2e-cb64-ae16f3dbb40c"
      },
      "execution_count": 4,
      "outputs": [
        {
          "output_type": "stream",
          "name": "stdout",
          "text": [
            "{'name': 'Hasnain', 'languages': ['Python', 'JS'], 'topics': ('dict', 'set'), 'age': 32, 'is_adult': True, 'marks': 54.2}\n",
            "<class 'dict'>\n"
          ]
        }
      ]
    },
    {
      "cell_type": "code",
      "source": [
        "# note about dictionary\n",
        "\n",
        "# - values, almost all data types are acceptable.\n",
        "\n",
        "# - key, str, int, float, bool, tuple etc can be used,\n",
        "# but not not the ones whose value changes like list, and dict"
      ],
      "metadata": {
        "id": "chpfUmzmQhSN"
      },
      "execution_count": 6,
      "outputs": []
    },
    {
      "cell_type": "markdown",
      "source": [
        "**Dictionary Methods**"
      ],
      "metadata": {
        "id": "BGD_rB7IWO0c"
      }
    },
    {
      "cell_type": "code",
      "source": [
        "# mostly used methods\n",
        "\n",
        "# myDict.\n",
        "\n",
        "# 1. keys()\n",
        "# values()\n",
        "# items()\n",
        "# get('key')\n",
        "# update(newDict)"
      ],
      "metadata": {
        "id": "ldQkeWbIWR8u"
      },
      "execution_count": 7,
      "outputs": []
    },
    {
      "cell_type": "markdown",
      "source": [
        "# Set"
      ],
      "metadata": {
        "id": "bmISn9kdPuCc"
      }
    },
    {
      "cell_type": "code",
      "source": [
        "# colection of unordered items\n",
        "# they itself are mutable\n",
        "# each el must be unique and immutable\n",
        "\n",
        "# Syntax: {,}"
      ],
      "metadata": {
        "id": "CHaycuY0PwEw"
      },
      "execution_count": 13,
      "outputs": []
    },
    {
      "cell_type": "code",
      "source": [
        "# data types can be stored in set\n",
        "# int, float, str, bool, tuple\n",
        "\n",
        "# list and dict, can't be stored"
      ],
      "metadata": {
        "id": "KaFnRsxRntev"
      },
      "execution_count": 2,
      "outputs": []
    },
    {
      "cell_type": "code",
      "source": [
        "# e.g;\n",
        "\n",
        "collection = {1, 2, 3, 4}\n",
        "\n",
        "print(collection)\n",
        "print(type(collection))"
      ],
      "metadata": {
        "colab": {
          "base_uri": "https://localhost:8080/"
        },
        "id": "L3HYvidaoRqd",
        "outputId": "9bac9a07-7b8f-4231-886b-24e4c6f65568"
      },
      "execution_count": 4,
      "outputs": [
        {
          "output_type": "stream",
          "name": "stdout",
          "text": [
            "{1, 2, 3, 4}\n",
            "<class 'set'>\n"
          ]
        }
      ]
    },
    {
      "cell_type": "code",
      "source": [
        "collection = {1, 2, 'hello', 'welcome', 'hello', 1}\n",
        "\n",
        "print(collection)\n",
        "print(len(collection)) # number of items, without repeatition\n",
        "\n",
        "\n",
        "# note: no repeation of element and order will change automaticaly"
      ],
      "metadata": {
        "colab": {
          "base_uri": "https://localhost:8080/"
        },
        "id": "1fLA5Esioldg",
        "outputId": "65e03f2c-244e-4427-c6b3-fd10e534d3bb"
      },
      "execution_count": 8,
      "outputs": [
        {
          "output_type": "stream",
          "name": "stdout",
          "text": [
            "{1, 2, 'welcome', 'hello'}\n",
            "4\n"
          ]
        }
      ]
    },
    {
      "cell_type": "code",
      "source": [
        "# empty set\n",
        "\n",
        "empty_set = set()\n",
        "print(type(empty_set))\n",
        "\n",
        "# reason: {} is already used in dict"
      ],
      "metadata": {
        "colab": {
          "base_uri": "https://localhost:8080/"
        },
        "id": "fcNRfQzZo7Et",
        "outputId": "8f6b8c5c-2cf9-4834-cb91-af710c9e6aab"
      },
      "execution_count": 11,
      "outputs": [
        {
          "output_type": "stream",
          "name": "stdout",
          "text": [
            "<class 'set'>\n"
          ]
        }
      ]
    },
    {
      "cell_type": "markdown",
      "source": [
        "**Set Methods**"
      ],
      "metadata": {
        "id": "USEKoiMhp_xp"
      }
    },
    {
      "cell_type": "code",
      "source": [
        "# mostly used\n",
        "# set.\n",
        "\n",
        "# add(el)\n",
        "# remove(el)\n",
        "# clear(): empties the set\n",
        "# pop(): removes random value\n",
        "# union(set2)\n",
        "# intersection(set2)"
      ],
      "metadata": {
        "id": "xl7Fyniyp1Cw"
      },
      "execution_count": 15,
      "outputs": []
    },
    {
      "cell_type": "code",
      "source": [
        "# hash value"
      ],
      "metadata": {
        "id": "o9gjD9fqqWzU"
      },
      "execution_count": 14,
      "outputs": []
    },
    {
      "cell_type": "markdown",
      "source": [
        "**Practise**"
      ],
      "metadata": {
        "id": "7L2VlZznrqAm"
      }
    },
    {
      "cell_type": "code",
      "source": [
        "# Qs:\n",
        "\n",
        "meanings = {\n",
        "    'table' : ['piece of furniture', 'list of facts & figures'],\n",
        "    'cat' : 'small animal'\n",
        "}\n",
        "\n",
        "print(meanings)"
      ],
      "metadata": {
        "colab": {
          "base_uri": "https://localhost:8080/"
        },
        "id": "gGn3wWTLrPnE",
        "outputId": "a191f748-4b24-4b5c-fde0-f64a4047ecb2"
      },
      "execution_count": 16,
      "outputs": [
        {
          "output_type": "stream",
          "name": "stdout",
          "text": [
            "{'table': ['piece of furniture', 'list of facts & figures'], 'cat': 'small animal'}\n"
          ]
        }
      ]
    },
    {
      "cell_type": "code",
      "source": [
        "# Qs:\n",
        "\n",
        "sub = {'python', 'java', 'C++', 'python', 'JS', 'java', 'python', 'java', 'C++', 'C'}\n",
        "print(sub)\n",
        "print(len(sub))"
      ],
      "metadata": {
        "colab": {
          "base_uri": "https://localhost:8080/"
        },
        "id": "KUfBH9Tes15A",
        "outputId": "f3da868f-b7ef-4691-fed4-84c19bc51df1"
      },
      "execution_count": 18,
      "outputs": [
        {
          "output_type": "stream",
          "name": "stdout",
          "text": [
            "{'C', 'C++', 'java', 'python', 'JS'}\n",
            "5\n"
          ]
        }
      ]
    },
    {
      "cell_type": "code",
      "source": [
        "# Qs:\n",
        "\n",
        "marks = {}\n",
        "\n",
        "x = int(input('Enter marks of Mathematics: '))\n",
        "marks.update({'Mathematics': x})\n",
        "\n",
        "x = int(input('Enter marks of Business: '))\n",
        "marks.update({'Business': x})\n",
        "\n",
        "x = int(input('Enter marks of Physics: '))\n",
        "marks.update({'Physics': x})\n",
        "\n",
        "print(marks)"
      ],
      "metadata": {
        "colab": {
          "base_uri": "https://localhost:8080/"
        },
        "id": "mOTSQwwktLRF",
        "outputId": "4dad2402-e366-42b8-d7a4-0bdd0990e54a"
      },
      "execution_count": 20,
      "outputs": [
        {
          "output_type": "stream",
          "name": "stdout",
          "text": [
            "Enter marks of Mathematics: 65\n",
            "Enter marks of Business: 54\n",
            "Enter marks of Physics: 65\n",
            "{'Mathematics': 65, 'Business': 54, 'Physics': 65}\n"
          ]
        }
      ]
    },
    {
      "cell_type": "code",
      "source": [
        "# Qs.\n",
        "\n",
        "# 1st method\n",
        "# store = {9, '9.0'}\n",
        "\n",
        "# 2nd method: using tuples\n",
        "store = {\n",
        "    ('int', 9),\n",
        "    ('float', 9.0)\n",
        "}\n",
        "\n",
        "print(store)"
      ],
      "metadata": {
        "colab": {
          "base_uri": "https://localhost:8080/"
        },
        "id": "LWL1BWKruZX1",
        "outputId": "9af222c7-25d1-4c7f-ab52-9c602985528a"
      },
      "execution_count": 24,
      "outputs": [
        {
          "output_type": "stream",
          "name": "stdout",
          "text": [
            "{('int', 9), ('float', 9.0)}\n"
          ]
        }
      ]
    }
  ]
}