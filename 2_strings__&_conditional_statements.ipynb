{
  "nbformat": 4,
  "nbformat_minor": 0,
  "metadata": {
    "colab": {
      "provenance": [],
      "authorship_tag": "ABX9TyMykjDMXqkYPdXxnfp0XzH+",
      "include_colab_link": true
    },
    "kernelspec": {
      "name": "python3",
      "display_name": "Python 3"
    },
    "language_info": {
      "name": "python"
    }
  },
  "cells": [
    {
      "cell_type": "markdown",
      "metadata": {
        "id": "view-in-github",
        "colab_type": "text"
      },
      "source": [
        "<a href=\"https://colab.research.google.com/github/mhasnainr/Python-Apna-College/blob/main/2_strings__%26_conditional_statements.ipynb\" target=\"_parent\"><img src=\"https://colab.research.google.com/assets/colab-badge.svg\" alt=\"Open In Colab\"/></a>"
      ]
    },
    {
      "cell_type": "markdown",
      "source": [
        "**Chapter 2: Strings & Conditional Statements**"
      ],
      "metadata": {
        "id": "kyFfgfoYNTMO"
      }
    },
    {
      "cell_type": "code",
      "execution_count": 2,
      "metadata": {
        "id": "6ihP3Q7xNMre"
      },
      "outputs": [],
      "source": [
        "# Escape Sequence Characters\n",
        "\n",
        "# for new line: \\n\n",
        "# for tab space between two words: \\t"
      ]
    },
    {
      "cell_type": "code",
      "source": [
        "# Indexing\n",
        "\n",
        "# it only allows us to access any character, not to manipulate them"
      ],
      "metadata": {
        "id": "1Tmd4dudCghf"
      },
      "execution_count": 3,
      "outputs": []
    },
    {
      "cell_type": "code",
      "source": [
        "# Slicing\n",
        "\n",
        "# it is accessing/ breaking parts of a string\n",
        "# str[starting_idx : ending_idx], where ending index not included\n",
        "\n",
        "\n",
        "# e.g;\n",
        "\n",
        "name = 'apna college'\n",
        "print(name[1: 8])\n",
        "\n",
        "print(name[4: len(name)])\n",
        "print(name[4: 12])\n",
        "print(name[4:])\n",
        "print(name[:4])"
      ],
      "metadata": {
        "colab": {
          "base_uri": "https://localhost:8080/"
        },
        "id": "eloK5dNdCsnl",
        "outputId": "06d41bbc-2322-4795-ddb9-73835006ec16"
      },
      "execution_count": 11,
      "outputs": [
        {
          "output_type": "stream",
          "name": "stdout",
          "text": [
            "pna col\n",
            " college\n",
            " college\n",
            " college\n",
            "apna\n"
          ]
        }
      ]
    },
    {
      "cell_type": "code",
      "source": [
        "# negative index\n",
        "\n",
        "#   a  p  p  l  e\n",
        "#  -5 -4 -3 -2 -1\n",
        "\n",
        "str = 'apple'\n",
        "print(str[-3: -1])"
      ],
      "metadata": {
        "colab": {
          "base_uri": "https://localhost:8080/"
        },
        "id": "xo7ByewGDF28",
        "outputId": "701b4b17-fa9c-424f-8842-e6b9d7398811"
      },
      "execution_count": 2,
      "outputs": [
        {
          "output_type": "stream",
          "name": "stdout",
          "text": [
            "pl\n"
          ]
        }
      ]
    },
    {
      "cell_type": "code",
      "source": [
        "a = int(input('Enter first number '))\n",
        "b = int(input('Enter second number '))\n",
        "c = int(input('Enter third number '))\n",
        "d = int(input('Enter fourth number '))\n",
        "\n",
        "\n",
        "if a >= b and a >= c and a >= d:\n",
        "    print(f\"\\n{a} is the largest number\")\n",
        "elif b >= a and b >= c and b >= d:\n",
        "    print(f\"\\n{b} is the largest number\")\n",
        "elif c >= a and c >= b and c >= d:\n",
        "    print(f\"\\n{c} is the largest number\")\n",
        "else:\n",
        "    print(f\"\\n{d} is the largest number\")"
      ],
      "metadata": {
        "colab": {
          "base_uri": "https://localhost:8080/"
        },
        "id": "9sRr1tljkYYS",
        "outputId": "72e34781-349b-457f-b48a-597d62a25b4e"
      },
      "execution_count": 4,
      "outputs": [
        {
          "output_type": "stream",
          "name": "stdout",
          "text": [
            "Enter first number 455\n",
            "Enter second number 32\n",
            "Enter third number 6432\n",
            "Enter fourth number 234\n",
            "\n",
            "6432 is the largest number\n"
          ]
        }
      ]
    }
  ]
}